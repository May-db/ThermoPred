{
 "cells": [
  {
   "cell_type": "markdown",
   "id": "6e44ae47",
   "metadata": {},
   "source": [
    "# Introduction\n",
    "\n",
    "The aim of our project is to find out whether the product created from two designated molecules is stable. Indeed, our vision is to ask a user to draw two molecules of his choice. Via the \"reaction_utils\" template, a product is created. To find out whether it was stable and whether the reaction was spontaneous, we also chose to calculate free enthalpies.\n",
    "\n",
    "Free enthalpy, or Gibbs free energy, ΔG is a thermodynamic function that determines whether a chemical reaction can occur spontaneously at constant temperature and pressure. It is calculated by the formula ΔG=ΔH-TΔS where H is enthalpy [J], T is the temperature [K] and S is the entropy [J/K]. A reaction is spontaneous if the variation in free enthalpy is negative. In our case,  If the enthalpy of the sum of the reactants is greater than that of the product, then the latter is stable. This concept is therefore essential for predicting chemical equilibrium and optimizing the conditions of chemical reactions, whether industrial or biological. Free enthalpy thus enables us to better understand the direction and feasibility of chemical transformations.\n",
    "\n",
    "\n",
    "# Materials and Methods\n",
    "\n",
    "To reach our goal, which is to determine if the reaction of two given reactive is spontaneous or not at 0K, the problem was devided in multiple steps:\n",
    "1. First, a drawing interface was created to enable the users to draw their reactants.\n",
    "2. Then, the reactants were analyzed to determine what possible product they could yield using reaction templates. \n",
    "3. Finally, the energy of all molecules both reactants and product were calculated and compaired to conclude on the spontaneous character of the reaction at 0K.\n",
    "\n",
    "All this steps can be summaryze with this chart : \n",
    "\n",
    "Molecule ( Smiles “CCOC…”) → Convert into 3D (xyz) → Calculate energy → Compare energies\n",
    "\n",
    "## 1. Creating a drawing interface\n",
    "\n",
    "First, a drawing interface inspired by the materials provided in lecture 12 was created using Streamlit and Ketcher. The interface was designed to allow the user to draw two reagents and view their structure, along with the corresponding SMILES, 3D visualization, and molecular energy. Also, after choosing the desired reaction type, the product was generated using a reaction template. To apply the same feature display functions as for the reactants, several format conversions were required, which made this step particularly challenging. Finally, we made sure that the reaction total energy was shown, and that if the reaction was favourable, we could see it.\n",
    "\n",
    "One of the main functions of this part was therefore to get the three functionalities of the drawn reagents. `draw_and_process` indeed makes the link between the interface and the created functions : \n",
    "1. the user draws a molecule using the interface ketcher\n",
    "2. the SMILES of the molecule is displayed\n",
    "3. the 3D molecular structure is generated using `generate_3D` which is function that takes the SMILES and creates a 3D molblock\n",
    "4. the 3D structure is visualized using `visualize_3D`\n",
    "5. the molecular energy is calculated using the function `calculate_enrgy_with_rdkit`\n",
    "\n",
    "\n",
    "The following code take the example of if the user has drawn the ethanol molecule. Because keycher automatically converts the drawing into smiles such a function was not created. Therefore, in the example, the smiles of the molecule is directly given. \n",
    "\n",
    "\n",
    "\n",
    "\n",
    "\n"
   ]
  },
  {
   "cell_type": "code",
   "execution_count": 12,
   "id": "70db2340",
   "metadata": {},
   "outputs": [
    {
     "data": {
      "image/jpeg": "[encoded data removed]",
      "image/png": "[encoded data removed]",
      "text/plain": [
       "<PIL.PngImagePlugin.PngImageFile image mode=RGB size=100x100>"
      ]
     },
     "metadata": {},
     "output_type": "display_data"
    },
    {
     "name": "stdout",
     "output_type": "stream",
     "text": [
      "SMILES generated from the interface :  CCO\n",
      "Structure 3D: \n",
      "     RDKit          3D\n",
      "\n",
      "  9  8  0  0  0  0  0  0  0  0999 V2000\n",
      "   -0.9535    0.0478    0.0425 C   0  0  0  0  0  0  0  0  0  0  0  0\n",
      "    0.4891   -0.3204   -0.1886 C   0  0  0  0  0  0  0  0  0  0  0  0\n",
      "    1.2770    0.3248    0.7377 O   0  0  0  0  0  0  0  0  0  0  0  0\n",
      "   -1.3570    0.7340   -0.7332 H   0  0  0  0  0  0  0  0  0  0  0  0\n",
      "   -1.5933   -0.8626    0.0218 H   0  0  0  0  0  0  0  0  0  0  0  0\n",
      "   -1.0710    0.5964    1.0112 H   0  0  0  0  0  0  0  0  0  0  0  0\n",
      "    0.7879   -0.1377   -1.2385 H   0  0  0  0  0  0  0  0  0  0  0  0\n",
      "    0.5896   -1.4290   -0.0413 H   0  0  0  0  0  0  0  0  0  0  0  0\n",
      "    1.8313    1.0466    0.3885 H   0  0  0  0  0  0  0  0  0  0  0  0\n",
      "  1  2  1  0\n",
      "  2  3  1  0\n",
      "  1  4  1  0\n",
      "  1  5  1  0\n",
      "  1  6  1  0\n",
      "  2  7  1  0\n",
      "  2  8  1  0\n",
      "  3  9  1  0\n",
      "M  END\n",
      "\n",
      "Energy : -0.002418 Hartree\n"
     ]
    }
   ],
   "source": [
    "from src.ThermoPred.reaction_utils import generate_3D, calculate_energy_with_rdkit\n",
    "from rdkit import Chem\n",
    "from rdkit.Chem import Draw\n",
    "\n",
    "# Molecule drawn by the user\n",
    "smiles = \"CCO\"  \n",
    "mol = Chem.MolFromSmiles(smiles)\n",
    "if mol:\n",
    "    display(Draw.MolToImage(mol, size=(100, 100)))\n",
    "\n",
    "print(\"SMILES generated from the interface : \", smiles)\n",
    "\n",
    "# Structure 3D\n",
    "molblock = generate_3D(smiles)\n",
    "if molblock:\n",
    "    print(f\"Structure 3D:\", molblock)\n",
    "\n",
    "# Energy calculated\n",
    "energy, elements, coords = calculate_energy_with_rdkit(smiles)\n",
    "print(f\"Energy : {energy:.6f} Hartree\")\n",
    "\n"
   ]
  },
  {
   "cell_type": "markdown",
   "id": "95d4bf3c",
   "metadata": {},
   "source": [
    "## 2. Generating a Product \n",
    "\n",
    "Product generation is handled through a template-based reaction prediction system. A collection of common reaction templates were implemented in SMARTS format, including:\n",
    "\n",
    "* Amide formation\n",
    "* SN2 substitutions (halide with hydroxyl or amine)\n",
    "* Carbon-carbon coupling reactions\n",
    "* Interhalogen compound formation\n",
    "\n",
    "The `react` function analyzes two input molecules and attempts to match them against these reaction templates. It works by:\n",
    "\n",
    "* Converting SMILES strings to RDKit molecule objects\n",
    "* Checking special cases (like elemental halogen reactions)\n",
    "* Analyzing structural features to identify likely reaction types\n",
    "* Testing applicable reaction templates systematically\n",
    "* Returning the most probable product and template used\n",
    "\n",
    "For reactions that potentially generate multiple products (indicated by dot-separated SMILES), we implemented the `get_main_product` function to identify and isolate the largest molecular component based on atom count.\n",
    "The prediction system is flexible, allowing either automatic template detection or user-selected reaction pathways. When no suitable template is found, the system notifies the user that the reaction is unlikely to occur under standard conditions. Here's an example usage: "
   ]
  },
  {
   "cell_type": "code",
   "execution_count": 12,
   "id": "00b081fd",
   "metadata": {},
   "outputs": [
    {
     "name": "stdout",
     "output_type": "stream",
     "text": [
      "Current directory: c:\\Users\\Maria\\Desktop\\projectppchem\\ThermoPred\n"
     ]
    }
   ],
   "source": [
    "import os\n",
    "print(\"Current directory:\", os.getcwd())"
   ]
  },
  {
   "cell_type": "code",
   "execution_count": 26,
   "id": "a23d4aec",
   "metadata": {},
   "outputs": [
    {
     "name": "stdout",
     "output_type": "stream",
     "text": [
      "CCCCC\n"
     ]
    },
    {
     "name": "stderr",
     "output_type": "stream",
     "text": [
      "[18:53:14] mapped atoms in the reactants were not mapped in the products.\n",
      "  unmapped numbers are: 2 4 \n"
     ]
    }
   ],
   "source": [
    "import sys\n",
    "import os\n",
    "from pathlib import Path\n",
    "from rdkit import Chem\n",
    "from src.ThermoPred import reaction_utils  # This should work\n",
    "from src.ThermoPred.reaction_utils import REACTION_TEMPLATES, get_main_product, react\n",
    "\n",
    "reactant1= \"CCCCCl\"\n",
    "reactant2= \"CBr\"\n",
    "product, template_used= react(reactant1, reactant2)\n",
    "main_product= get_main_product(product) if product and \".\" in product else product\n",
    "print (main_product)\n"
   ]
  },
  {
   "cell_type": "markdown",
   "id": "98f243e7",
   "metadata": {},
   "source": [
    "## 3. Calculation of the molecule's energy \n",
    "\n",
    "Furthermore, the energy of each molecule was required. To obtain that information the initial idea was to convert the drawn molecule into a xyz file in order to optimize its geometry and calculate the energy of the molecule. The latter process presented many difficulties:\n",
    "Initially the geometry optimization was intended to be done using xTB package then, the geometry analysis to calculate the energy by morfeus. \n",
    "However, many issues were encountered with the use of the xTB package, segmentation problems were frequent despite many attempt to avoid it, such as trying different xTB calculus methods as backups. \n",
    "Thus, to still be able to calculate the energy of the molecules, it was chosen to give up part of the accuracy of the energy and use the rdkit package instead to avoid segmentation issues.\n",
    "The function \"calculate_energy_with_rdkit\" which takes smiles as an entry used to calculate the energy of the various molecules involved in this project was designed with the following architecture:"
   ]
  },
  {
   "cell_type": "code",
   "execution_count": null,
   "id": "99232d3a",
   "metadata": {},
   "outputs": [],
   "source": [
    "def calculate_energy_with_rdkit(smiles, optimize_steps=500):\n",
    "    \"\"\"Calculate a molecule's energy using RDKit instead of xTB\"\"\"\n",
    "    try:\n",
    "        # Clean the SMILES\n",
    "        if \".\" in smiles:\n",
    "            smiles = get_main_product(smiles)\n",
    "        \n",
    "        mol = Chem.MolFromSmiles(smiles)\n",
    "        if mol is None:\n",
    "            raise ValueError(f\"Cannot read SMILES: {smiles}\")\n",
    "        \n",
    "        mol = Chem.AddHs(mol)\n",
    "        \n",
    "        # Generate a clean 3D molecule\n",
    "        params = AllChem.ETKDGv3()\n",
    "        params.useRandomCoords = True\n",
    "        params.randomSeed = 42\n",
    "        params.maxIterations = 1000  \n",
    "        AllChem.EmbedMultipleConfs(mol, numConfs=10, params=params)\n",
    "\n",
    "        #tests that there are indeed 3D version of the molecule to calculate the energy of\n",
    "        if mol.GetNumConformers() == 0:\n",
    "            raise ValueError(\"Failed to generate 3D coordinates\")\n",
    "        \n",
    "        # All conformations are optimized to take the lowest energy later\n",
    "        energies = []\n",
    "        for conf_id in range(mol.GetNumConformers()):\n",
    "            try:\n",
    "                # Setting up the MMFF94 field\n",
    "                mp = AllChem.MMFFGetMoleculeProperties(mol, mmffVariant='MMFF94s')\n",
    "                if mp is None:\n",
    "                    continue\n",
    "                \n",
    "                ff = AllChem.MMFFGetMoleculeForceField(mol, mp, confId=conf_id)\n",
    "                if ff is None:\n",
    "                    continue\n",
    "                \n",
    "                # Optimization\n",
    "                ff.Initialize()\n",
    "                result = ff.Minimize(maxIts=optimize_steps)\n",
    "                \n",
    "                # Energy calculation\n",
    "                energy = ff.CalcEnergy()\n",
    "                energies.append((conf_id, energy))\n",
    "            except Exception as e:\n",
    "                continue\n",
    "        \n",
    "        if not energies:\n",
    "            # UFF method as backup\n",
    "            for conf_id in range(mol.GetNumConformers()):\n",
    "                try:\n",
    "                    ff = AllChem.UFFGetMoleculeForceField(mol, confId=conf_id)\n",
    "                    if ff is None:\n",
    "                        continue\n",
    "                    \n",
    "                    ff.Initialize()\n",
    "                    result = ff.Minimize(maxIts=optimize_steps)\n",
    "                    energy = ff.CalcEnergy()\n",
    "                    energies.append((conf_id, energy))\n",
    "                except Exception as e:\n",
    "                    continue\n",
    "        #targeted error\n",
    "        if not energies:\n",
    "            raise ValueError(\"Cannot calculate energy with MMFF94 or UFF\")\n",
    "        \n",
    "        # Take the lowest energy\n",
    "        energies.sort(key=lambda x: x[1])\n",
    "        best_conf_id, lowest_energy = energies[0]\n",
    "        \n",
    "        # Convert to Hartree\n",
    "        energy_hartree = lowest_energy / 627.5  # 1 Hartree ≈ 627.5 kcal/mol\n",
    "        \n",
    "        # Create xyz data\n",
    "        conf = mol.GetConformer(best_conf_id)\n",
    "        elements = [atom.GetSymbol() for atom in mol.GetAtoms()]\n",
    "        coordinates = np.array([list(conf.GetAtomPosition(i)) for i in range(mol.GetNumAtoms())])\n",
    "        \n",
    "        return energy_hartree, elements, coordinates\n",
    "    \n",
    "    except Exception as e:\n",
    "        raise ValueError(f\"Error calculating energy: {str(e)}\")"
   ]
  },
  {
   "cell_type": "markdown",
   "id": "9778d75c",
   "metadata": {},
   "source": [
    "Then, once the individual energy for each molecule was calculated, a comparison function (\"Energy_comparison\") was elaborated to compare the energy at the starting and ending point of the reaction and conclude on its spontaneous character. \n",
    "The energy of the reactant was added toghether, then a local variable associated to the difference in energy between the combined reactant and the product generated was evaluated. If the latter variable was negative the function returned the following bolean \"True\" that would latter be interpreated as a spontaneous reaction. Analogous in when the vaiable is positive. "
   ]
  },
  {
   "cell_type": "markdown",
   "id": "db07843d",
   "metadata": {},
   "source": [
    "## 4. Results\n",
    "The code was tested with several common reaction types to evaluate the quality of prediction. Here is one example demonstrating the systems performance."
   ]
  },
  {
   "cell_type": "code",
   "execution_count": 24,
   "id": "f19e3fa1",
   "metadata": {},
   "outputs": [
    {
     "data": {
      "image/jpeg": "[encoded data removed]",
      "image/png": "[encoded data removed]",
      "text/plain": [
       "<PIL.PngImagePlugin.PngImageFile image mode=RGB size=100x100>"
      ]
     },
     "metadata": {},
     "output_type": "display_data"
    },
    {
     "name": "stdout",
     "output_type": "stream",
     "text": [
      "SMILES reactant 1 :  C=CC(Cl)C\n",
      "Energy : 0.017757 Hartree\n"
     ]
    },
    {
     "data": {
      "image/jpeg": "[encoded data removed]",
      "image/png": "[encoded data removed]",
      "text/plain": [
       "<PIL.PngImagePlugin.PngImageFile image mode=RGB size=100x100>"
      ]
     },
     "metadata": {},
     "output_type": "display_data"
    },
    {
     "name": "stdout",
     "output_type": "stream",
     "text": [
      "SMILES reactant 2 :  CBr\n",
      "Energy : 0.000405 Hartree\n"
     ]
    },
    {
     "data": {
      "image/jpeg": "[encoded data removed]",
      "image/png": "[encoded data removed]",
      "text/plain": [
       "<PIL.PngImagePlugin.PngImageFile image mode=RGB size=100x100>"
      ]
     },
     "metadata": {},
     "output_type": "display_data"
    },
    {
     "name": "stdout",
     "output_type": "stream",
     "text": [
      "SMILES product :  C=CC(C)C\n",
      "Energy : 0.014311 Hartree\n",
      "ΔE (Hartree)=  0.003850835514501858\n",
      "unstable\n"
     ]
    }
   ],
   "source": [
    "import sys\n",
    "import os\n",
    "from pathlib import Path\n",
    "from rdkit import Chem\n",
    "from src.ThermoPred import reaction_utils  # This should work\n",
    "from src.ThermoPred.reaction_utils import REACTION_TEMPLATES, get_main_product, react, Energy_comparison\n",
    "\n",
    "# Reactant 1 \n",
    "reactant1= \"C=CC(Cl)C\"\n",
    "mol1 = Chem.MolFromSmiles(reactant1)\n",
    "if mol1:\n",
    "    display(Draw.MolToImage(mol1, size=(100, 100)))\n",
    "\n",
    "print(\"SMILES reactant 1 : \", reactant1)\n",
    "energy, elements, coords = calculate_energy_with_rdkit(reactant1)\n",
    "print(f\"Energy : {energy:.6f} Hartree\")\n",
    "E1 = energy\n",
    "\n",
    "\n",
    "# Reactant 2\n",
    "reactant2= \"CBr\"\n",
    "mol2 = Chem.MolFromSmiles(reactant2)\n",
    "if mol2:\n",
    "    display(Draw.MolToImage(mol2, size=(100, 100)))\n",
    "\n",
    "print(\"SMILES reactant 2 : \", reactant2)\n",
    "energy, elements, coords = calculate_energy_with_rdkit(reactant2)\n",
    "print(f\"Energy : {energy:.6f} Hartree\")\n",
    "E2 = energy\n",
    "\n",
    "\n",
    "# Reaction\n",
    "product, template_used= react(reactant1, reactant2)\n",
    "main_product= get_main_product(product) if product and \".\" in product else product\n",
    "\n",
    "# Product\n",
    "mol3 = Chem.MolFromSmiles(main_product)\n",
    "if mol3:\n",
    "    display(Draw.MolToImage(mol3, size=(100, 100)))\n",
    "print (\"SMILES product : \",main_product)\n",
    "energy, elements, coords = calculate_energy_with_rdkit(main_product)\n",
    "print(f\"Energy : {energy:.6f} Hartree\")\n",
    "E3 = energy\n",
    "\n",
    "\n",
    "# Energy\n",
    "delta_E = E1 + E2 - E3\n",
    "print(f\"ΔE (Hartree)= \" , delta_E)\n",
    "print(Energy_comparison(E1,E2,E3))\n",
    "\n",
    "\n",
    "                                \n",
    "\n",
    "\n",
    "\n",
    "\n",
    "\n",
    "\n",
    "\n"
   ]
  },
  {
   "cell_type": "markdown",
   "id": "248ce2ab",
   "metadata": {},
   "source": [
    "These results demonstarte that the code can sucessfully: \n",
    "1. Identify appropriate reaction templates for different molecular structures\n",
    "2. Generate chemically reasonable products\n",
    "3. Calculate energy differences that align with theoretical expectations\n",
    "\n",
    "For cases where reaction template did not match the input molecules, the code correctly reported that no spontaneous reaction was expected.\n",
    "\n",
    "The Streamlit interface provided an intuitive visualization of both the reaction participants and outcomes. Users could easely see:\n",
    "* 3D models of both reactants and the predicted product\n",
    "* Energy values for each molecule\n",
    "* The calculated energy change (ΔE) in both Hartree and kcal/mol\n",
    "* A clear indication of whether the reaction is thermodynamically favorable"
   ]
  },
  {
   "cell_type": "markdown",
   "id": "9304ef5f",
   "metadata": {},
   "source": [
    "## 5. Discussion\n",
    "\n",
    "### Interface Usability\n",
    "\n",
    "The Streamlit-based user interface provided an accessible way for users to interact with complex computational chemistry tools. However, several areas for improvement were identified:\n",
    "1. The page \"jump\" to Molecule 2 disrupted the user experience. One way of solving it would have been to put the two interfaces for Molecule 1 and 2 next to each other, but then we would lose the sibebar for choosing specific atoms such as Br, O or S.\n",
    "3. Additional visualization options (like electrostatic potential maps) would enhance understanding\n",
    "\n",
    "### Accuracy of Template-Based Reaction Prediction\n",
    "The template-based approach provided a straightforward way to predict reaction outcomes for common reaction types. However, this method has inherent limitations:\n",
    "1. It can only predict reactions that match pre-defined templates\n",
    "2. It does not account for kinetic factors that might prevent thermodynamically favorable reactions\n",
    "3. Complex reactions involving multiple steps or rearrangements cannot be modeled\n",
    "\n",
    "For the simple reactions tested, our system showed good agreement with expected chemical behavior. For example, amide formation from carboxylic acids and amines is known to be thermodynamically favorable, which our calculations confirmed.\n",
    "\n",
    "### Energy Calculation Precision\n",
    "Our decision to use RDKit force fields rather than quantum mechanical methods introduced a trade-off between computational efficiency and accuracy. While sufficient for relative comparisons, the absolute energy values should be interpreted with caution:\n",
    "1. Force fields like MMFF94s are parameterized for common organic structures and may be less accurate for unusual chemical environments\n",
    "2. The calculations do not explicitly account for solvation effects\n",
    "3. Zero-point energy corrections are not included\n",
    "\n",
    "### Technical Challenges\n",
    "Several significant technical challenges were encountered during development:\n",
    "1. __Segmentation issues with xTB__: Despite multiple attempts and alternative methods, we could not resolve these issues, leading to our adoption of RDKit\n",
    "2. __Molecular representation conversions__: Maintaining consistency across different representations (SMILES, molblock, 3D coordinates) required careful implementation\n",
    "3. __Exception handling__: Chemical calculations frequently encounter edge cases requiring robust error handling\n",
    "\n",
    "### Conclusion\n",
    "We successfully developed a computational system that predicts chemical reaction products and assesses their thermodynamic stability at 0K. Our approach combines:\n",
    "1. An intuitive molecular drawing interface\n",
    "2. Template-based reaction prediction\n",
    "3. Force field-based energy calculations\n",
    "4. Clear visualization of results\n",
    "The system effectively demonstrates the concept of using free enthalpy calculations to predict reaction spontaneity, providing a valuable educational and exploratory tool for chemistry students and researchers.\n",
    "\n",
    "### Future Improvements\n",
    "Several enhancements could improve the system's capabilities:\n",
    "\n",
    "1. Implementation of quantum mechanical methods for more accurate energy calculations\n",
    "2. Expansion of the reaction template library to cover more reaction types\n",
    "3. Addition of temperature effects to predict reaction favorability under different conditions\n",
    "4. Integration of transition state modeling to address kinetic factors\n",
    "5. Improvements to the user interface to address identified usability issues\n",
    "\n",
    "This project demonstrates the potential of computational approaches to provide rapid insights into chemical reactivity, potentially reducing the need for experimental trial-and-error in reaction development.\n"
   ]
  }
 ],
 "metadata": {
  "kernelspec": {
   "display_name": "ppchem",
   "language": "python",
   "name": "python3"
  },
  "language_info": {
   "codemirror_mode": {
    "name": "ipython",
    "version": 3
   },
   "file_extension": ".py",
   "mimetype": "text/x-python",
   "name": "python",
   "nbconvert_exporter": "python",
   "pygments_lexer": "ipython3",
   "version": "3.10.16"
  }
 },
 "nbformat": 4,
 "nbformat_minor": 5
}
