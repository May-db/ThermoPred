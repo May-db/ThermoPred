{
 "cells": [
  {
   "cell_type": "markdown",
   "id": "6e44ae47",
   "metadata": {},
   "source": [
    "# Welcome to ThermoPred : Reaction thermodynamic Predictor🧪\n",
    "\n",
    "## Introduction 💡\n",
    "\n",
    "The aim of our project is to find out whether the product created from two designated molecules is stable.\n",
    "\n",
    "Determining whether a chemical reactuon will occur spontaneously and yield stable products typically requires laboratory experimentation, which can be time-consumming. Chemists need computational tools that can predict whether reactions are possible and whether the products are stable, especially in synthesis.\n",
    "\n",
    "Our vision is to ask a user to draw two molecules of their choice. Via the `REACTION_UTILS` template, a product is created. To find out whether it was stable and whether the reaction was spontaneous, we chose to calculate free enthalpies.\n",
    "\n",
    "Free enthalpy, or Gibbs free energy, ΔG is a thermodynamic function that determines whether a chemical reaction can occur spontaneously at constant temperature and pressure. It is calculated by the formula ΔG=ΔH-TΔS where H is enthalpy [J], T is the temperature [K] and S is the entropy [J/K]. A reaction is spontaneous if the variation in free enthalpy is negative. In our case, if the enthalpy of the sum of the reactants is greater than that of the product, then the latter is stable. This concept is therefore essential for predicting chemical equilibrium and optimizing the conditions of chemical reactions, whether industrial or biological. Free enthalpy thus enables us to better understand the direction and feasibility of chemical transformations.\n",
    "\n",
    "\n",
    "## Materials and Methods 🔎\n",
    "\n",
    "To reach our goal, which is to determine if the reaction of two given reactives is spontaneous or not at 0K, the problem was devided in multiple steps:\n",
    "1. First, a drawing interface was created to enable the users to draw their reactants.\n",
    "2. Then, the reactants were analyzed to determine what possible product they could yield using reaction templates. \n",
    "3. Finally, the energy of all molecules both reactants and product were calculated and compaired to conclude on the spontaneous character of the reaction at 0K.\n",
    "\n",
    "All this steps can be summaryze with this chart : \n",
    "\n",
    "Molecule ( Smiles “CCOC…”) → Convert into 3D (xyz) → Calculate energy → Compare energies\n",
    "\n",
    "#### 1. Creating a drawing interface\n",
    "\n",
    "First, a drawing interface inspired by the materials provided in lecture 12 was created using Streamlit and Ketcher. The interface was designed to allow the user to draw two reagents and view their structure, along with the corresponding SMILES, 3D visualization, and molecular energy. Also, after choosing the desired reaction type, the product was generated using a reaction template. To apply the same feature display functions as for the reactants, several format conversions were required, which made this step particularly challenging. Finally, we made sure that the reaction total energy was shown, and that if the reaction was favorable, we could see it.\n",
    "\n",
    "One of the main functions of this part was therefore to get the three functionalities of the drawn reagents. `draw_and_process` indeed makes the link between the interface and the created functions : \n",
    "1. the user draws a molecule using the interface ketcher\n",
    "2. the SMILES of the molecule is displayed\n",
    "3. the 3D molecular structure is generated using `generate_3D` which is function that takes the SMILES and creates a 3D molblock\n",
    "4. the 3D structure is visualized using `visualize_3D`\n",
    "5. the molecular energy is calculated using the function `calculate_enrgy_with_rdkit`\n",
    "\n",
    "\n",
    "The following code take the example of if the user has drawn the ethanol molecule. Because Ketcher automatically converts the drawing into SMILES such a function was not created. Therefore, in the example, the SMILES of the molecule is directly given. \n",
    "\n",
    "\n",
    "\n",
    "\n",
    "\n"
   ]
  },
  {
   "cell_type": "code",
   "execution_count": 2,
   "id": "70db2340",
   "metadata": {},
   "outputs": [
    {
     "data": {
      "image/jpeg": "[encoded data removed]",
      "image/png": "[encoded data removed]",
      "text/plain": [
       "<PIL.PngImagePlugin.PngImageFile image mode=RGB size=100x100>"
      ]
     },
     "metadata": {},
     "output_type": "display_data"
    },
    {
     "name": "stdout",
     "output_type": "stream",
     "text": [
      "SMILES generated from the interface :  C=CCOC\n",
      "Structure 3D: \n",
      "     RDKit          3D\n",
      "\n",
      " 13 12  0  0  0  0  0  0  0  0999 V2000\n",
      "    2.4086   -0.0425   -0.1120 C   0  0  0  0  0  0  0  0  0  0  0  0\n",
      "    1.3150    0.4622    0.4590 C   0  0  0  0  0  0  0  0  0  0  0  0\n",
      "    0.0034   -0.2069    0.3346 C   0  0  0  0  0  0  0  0  0  0  0  0\n",
      "   -0.9025    0.6522   -0.2840 O   0  0  0  0  0  0  0  0  0  0  0  0\n",
      "   -2.1506    0.0969   -0.4351 C   0  0  0  0  0  0  0  0  0  0  0  0\n",
      "    2.3845   -0.9598   -0.6889 H   0  0  0  0  0  0  0  0  0  0  0  0\n",
      "    3.3625    0.4522   -0.0164 H   0  0  0  0  0  0  0  0  0  0  0  0\n",
      "    1.3914    1.3752    1.0212 H   0  0  0  0  0  0  0  0  0  0  0  0\n",
      "    0.1172   -1.0799   -0.3407 H   0  0  0  0  0  0  0  0  0  0  0  0\n",
      "   -0.3726   -0.5889    1.3005 H   0  0  0  0  0  0  0  0  0  0  0  0\n",
      "   -2.6229   -0.1920    0.5371 H   0  0  0  0  0  0  0  0  0  0  0  0\n",
      "   -2.1455   -0.8121   -1.0961 H   0  0  0  0  0  0  0  0  0  0  0  0\n",
      "   -2.7885    0.8434   -0.9507 H   0  0  0  0  0  0  0  0  0  0  0  0\n",
      "  1  2  2  0\n",
      "  2  3  1  0\n",
      "  3  4  1  0\n",
      "  4  5  1  0\n",
      "  1  6  1  0\n",
      "  1  7  1  0\n",
      "  2  8  1  0\n",
      "  3  9  1  0\n",
      "  3 10  1  0\n",
      "  5 11  1  0\n",
      "  5 12  1  0\n",
      "  5 13  1  0\n",
      "M  END\n",
      "\n",
      "Energy : 0.012841 Hartree\n"
     ]
    }
   ],
   "source": [
    "from src.ThermoPred.reaction_utils import generate_3D, calculate_energy_with_rdkit\n",
    "from src.ThermoPred import reaction_utils\n",
    "from rdkit import Chem\n",
    "from rdkit.Chem import Draw\n",
    "\n",
    "# Molecule drawn by the user\n",
    "smiles = \"C=CCOC\"  \n",
    "mol = Chem.MolFromSmiles(smiles)\n",
    "if mol:\n",
    "    display(Draw.MolToImage(mol, size=(100, 100)))\n",
    "\n",
    "print(\"SMILES generated from the interface : \", smiles)\n",
    "\n",
    "# Structure 3D\n",
    "molblock = generate_3D(smiles)\n",
    "if molblock:\n",
    "    print(f\"Structure 3D:\", molblock)\n",
    "\n",
    "# Energy calculated\n",
    "energy, elements, coords = calculate_energy_with_rdkit(smiles)\n",
    "print(f\"Energy : {energy:.6f} Hartree\")\n",
    "\n"
   ]
  },
  {
   "cell_type": "markdown",
   "id": "95d4bf3c",
   "metadata": {},
   "source": [
    "### 2. Generating a Product \n",
    "\n",
    "Product generation is handled through a template-based reaction prediction system. A collection of common reaction templates were implemented in SMARTS format, including:\n",
    "\n",
    "* Amide formation\n",
    "* SN2 substitutions (halide with hydroxyl or amine)\n",
    "* Carbon-carbon coupling reactions\n",
    "* Interhalogen compound formation\n",
    "\n",
    "The `react` function analyzes two input molecules and attempts to match them against these reaction templates. It works by:\n",
    "\n",
    "* Converting SMILES strings to RDKit molecule objects\n",
    "* Checking special cases (like elemental halogen reactions)\n",
    "* Analyzing structural features to identify likely reaction types\n",
    "* Testing applicable reaction templates systematically\n",
    "* Returning the most probable product and template used\n",
    "\n",
    "For reactions that potentially generate multiple products (indicated by dot-separated SMILES), we implemented the `get_main_product` function to identify and isolate the largest molecular component based on atom count.\n",
    "The prediction system is flexible, allowing either automatic template detection or user-selected reaction pathways. When no suitable template is found, the system notifies the user that the reaction is unlikely to occur under standard conditions. Here's an example usage: "
   ]
  },
  {
   "cell_type": "code",
   "execution_count": 3,
   "id": "a23d4aec",
   "metadata": {},
   "outputs": [
    {
     "name": "stdout",
     "output_type": "stream",
     "text": [
      "The SMILES of the reaction main product is CCCCC\n"
     ]
    },
    {
     "name": "stderr",
     "output_type": "stream",
     "text": [
      "[18:44:16] mapped atoms in the reactants were not mapped in the products.\n",
      "  unmapped numbers are: 2 4 \n"
     ]
    }
   ],
   "source": [
    "import sys\n",
    "import os\n",
    "from pathlib import Path\n",
    "from rdkit import Chem\n",
    "from src.ThermoPred import reaction_utils  \n",
    "from src.ThermoPred.reaction_utils import REACTION_TEMPLATES, get_main_product, react\n",
    "\n",
    "reactant1= \"CCCCCl\"\n",
    "reactant2= \"CBr\"\n",
    "product, template_used= react(reactant1, reactant2)\n",
    "main_product= get_main_product(product) if product and \".\" in product else product\n",
    "print (f\"The SMILES of the reaction main product is\",main_product)\n"
   ]
  },
  {
   "cell_type": "markdown",
   "id": "98f243e7",
   "metadata": {},
   "source": [
    "### 3. Calculation of the molecule's energy \n",
    "\n",
    "Furthermore, the energy of each molecule was calculated with `calculate_energy_with_rdkit`, which takes as an argument the SMILES of the studied molecule. the latter function is designed based on the architecture described below:\n",
    "1. Cleans the smiles to ensure only one molecule is taken into acount\n",
    "2. Converts the molecule in a 3D format\n",
    "3. Generate confermers \n",
    "4. Apply the MMFF94 field\n",
    "5. Optimization of the molecule's geometry \n",
    "6. Energy calculation \n",
    "7. Selection of the lowest energy \n",
    "8. Convert the energy to hartree\n",
    "\n",
    "The following example treat the case where the molecule chosen is Aspirin (SMILES: CC(=O)Oc1ccccc1C(=O)O):"
   ]
  },
  {
   "cell_type": "code",
   "execution_count": 4,
   "id": "0d47994a",
   "metadata": {},
   "outputs": [
    {
     "name": "stdout",
     "output_type": "stream",
     "text": [
      "the energy associated with the Aspirin molecule in Hartreee is 0.030135090006640712\n"
     ]
    }
   ],
   "source": [
    "import sys\n",
    "import os\n",
    "from pathlib import Path\n",
    "from rdkit import Chem\n",
    "from src.ThermoPred import reaction_utils  \n",
    "from src.ThermoPred.reaction_utils import calculate_energy_with_rdkit\n",
    "\n",
    "smiles= \"CC(=O)Oc1ccccc1C(=O)O\"\n",
    "energy, elements, coordinates = calculate_energy_with_rdkit(smiles)\n",
    "print(f\"the energy associated with the Aspirin molecule in Hartreee is\",energy)\n",
    "\n"
   ]
  },
  {
   "cell_type": "markdown",
   "id": "f407c83a",
   "metadata": {},
   "source": [
    "Once the individual energy for each molecule was calculated, a comparison function `Energy_comparison` was elaborated to compare the energy at the starting and ending point of the reaction and conclude on its spontaneous character. The function works according to the following :\n",
    "1. The energy of the reactants were added together \n",
    "2. calculates the difference between the starting and ending point of the reaction \n",
    "3. Analyze the sign of the latter difference and tell if the product is thermodynamiccally stable or not\n",
    "\n",
    "First, the function is tested with reactant energies of 3 and 2 and a product energy of 1, which should yield true :"
   ]
  },
  {
   "cell_type": "code",
   "execution_count": 5,
   "id": "236804de",
   "metadata": {},
   "outputs": [
    {
     "name": "stdout",
     "output_type": "stream",
     "text": [
      "the first reaction is stable\n",
      "the second reaction is unstable\n"
     ]
    }
   ],
   "source": [
    "import sys\n",
    "import os\n",
    "from pathlib import Path\n",
    "from rdkit import Chem\n",
    "from src.ThermoPred import reaction_utils  \n",
    "from src.ThermoPred.reaction_utils import Energy_comparison\n",
    "#case where the reaction is spontaneous, so the product stable \n",
    "reactant1= 3\n",
    "reactant2= 2\n",
    "product1= 1\n",
    "\n",
    "#case where the reaction is not spontaneous, so the product is unstable \n",
    "reactant1bis= 4\n",
    "reactant2bis= 8\n",
    "product2= 250\n",
    "\n",
    "spontaneous1=Energy_comparison(reactant1,reactant2,product1)\n",
    "spontaneous2=Energy_comparison(reactant1bis,reactant2bis,product2)\n",
    "\n",
    "print(f\"the first reaction is\", spontaneous1)\n",
    "print(f\"the second reaction is\", spontaneous2)"
   ]
  },
  {
   "cell_type": "markdown",
   "id": "db07843d",
   "metadata": {},
   "source": [
    "## Results \n",
    "The code was tested with halogen interchange reaction, between chlorinated alkene C=CC(Cl)C and methyl bromide CBr, to evaluate the quality of prediction. The reaction produces the product through a substitution mechanism, as we can see below:"
   ]
  },
  {
   "cell_type": "code",
   "execution_count": 6,
   "id": "f19e3fa1",
   "metadata": {},
   "outputs": [
    {
     "data": {
      "image/jpeg": "[encoded data removed]",
      "image/png": "[encoded data removed]",
      "text/plain": [
       "<PIL.PngImagePlugin.PngImageFile image mode=RGB size=100x100>"
      ]
     },
     "metadata": {},
     "output_type": "display_data"
    },
    {
     "name": "stdout",
     "output_type": "stream",
     "text": [
      "SMILES reactant 1 :  C=CC(Cl)C\n",
      "Energy : 0.017757 Hartree\n"
     ]
    },
    {
     "data": {
      "image/jpeg": "[encoded data removed]",
      "image/png": "[encoded data removed]",
      "text/plain": [
       "<PIL.PngImagePlugin.PngImageFile image mode=RGB size=100x100>"
      ]
     },
     "metadata": {},
     "output_type": "display_data"
    },
    {
     "name": "stdout",
     "output_type": "stream",
     "text": [
      "SMILES reactant 2 :  CBr\n",
      "Energy : 0.000405 Hartree\n"
     ]
    },
    {
     "name": "stderr",
     "output_type": "stream",
     "text": [
      "[18:44:16] mapped atoms in the reactants were not mapped in the products.\n",
      "  unmapped numbers are: 2 4 \n"
     ]
    },
    {
     "data": {
      "image/jpeg": "[encoded data removed]",
      "image/png": "[encoded data removed]",
      "text/plain": [
       "<PIL.PngImagePlugin.PngImageFile image mode=RGB size=100x100>"
      ]
     },
     "metadata": {},
     "output_type": "display_data"
    },
    {
     "name": "stdout",
     "output_type": "stream",
     "text": [
      "SMILES product :  C=CC(C)C\n",
      "Energy : 0.014311 Hartree\n",
      "ΔE (Hartree)=  -0.003850835514501858\n",
      "The reaction is stable\n"
     ]
    }
   ],
   "source": [
    "import sys\n",
    "import os\n",
    "from pathlib import Path\n",
    "from rdkit import Chem\n",
    "from src.ThermoPred import reaction_utils  # This should work\n",
    "from src.ThermoPred.reaction_utils import REACTION_TEMPLATES, get_main_product, react, Energy_comparison\n",
    "\n",
    "# Reactant 1 \n",
    "reactant1= \"C=CC(Cl)C\"\n",
    "mol1 = Chem.MolFromSmiles(reactant1)\n",
    "if mol1:\n",
    "    display(Draw.MolToImage(mol1, size=(100, 100)))\n",
    "\n",
    "print(\"SMILES reactant 1 : \", reactant1)\n",
    "energy, elements, coords = calculate_energy_with_rdkit(reactant1)\n",
    "print(f\"Energy : {energy:.6f} Hartree\")\n",
    "E1 = energy\n",
    "\n",
    "\n",
    "# Reactant 2\n",
    "reactant2= \"CBr\"\n",
    "mol2 = Chem.MolFromSmiles(reactant2)\n",
    "if mol2:\n",
    "    display(Draw.MolToImage(mol2, size=(100, 100)))\n",
    "\n",
    "print(\"SMILES reactant 2 : \", reactant2)\n",
    "energy, elements, coords = calculate_energy_with_rdkit(reactant2)\n",
    "print(f\"Energy : {energy:.6f} Hartree\")\n",
    "E2 = energy\n",
    "\n",
    "\n",
    "# Reaction\n",
    "product, template_used= react(reactant1, reactant2)\n",
    "main_product= get_main_product(product) if product and \".\" in product else product\n",
    "\n",
    "# Product\n",
    "mol3 = Chem.MolFromSmiles(main_product)\n",
    "if mol3:\n",
    "    display(Draw.MolToImage(mol3, size=(100, 100)))\n",
    "print (\"SMILES product : \",main_product)\n",
    "energy, elements, coords = calculate_energy_with_rdkit(main_product)\n",
    "print(f\"Energy : {energy:.6f} Hartree\")\n",
    "E3 = energy\n",
    "\n",
    "\n",
    "# Energy\n",
    "delta_E = E3- E1 - E2\n",
    "print(f\"ΔE (Hartree)= \" , delta_E)\n",
    "print(f\"The reaction is\", Energy_comparison(E1,E2,E3))\n",
    "\n",
    "\n",
    "                                \n",
    "\n",
    "\n",
    "\n",
    "\n",
    "\n",
    "\n",
    "\n"
   ]
  },
  {
   "cell_type": "markdown",
   "id": "248ce2ab",
   "metadata": {},
   "source": [
    "🔎\n",
    "\n",
    "The results show us that the energy process was endorgenic ΔE>0, indicating thermodynamic unstability at 0K. This aligns with established principles for such substitutions, where carbon-chlorine bond breaking requires more energy than is realeased by the new bond formation.\n",
    "\n",
    "The energy values (0.017757, 0.000405, and 0.014311 Hartree for the first reactant, second reactant, and product respectively) reflect the characteristic potential energy surfaces of these molecular structures. The positive energy change identifies this as an example of a kinetically controlled rather than thermodynamically favorable process.\n",
    "\n",
    "This result demonstrates that the code can sucessfully: \n",
    "1. Identify appropriate reaction templates for different molecular structures\n",
    "2. Generate chemically reasonable products\n",
    "3. Calculate energy differences that align with theoretical expectations\n",
    "\n",
    "For cases where reaction template did not match the input molecules, the code correctly reported that no spontaneous reaction was expected.\n",
    "\n",
    "The Streamlit interface provided an intuitive visualization of both the reaction participants and outcomes. Users could easely see:\n",
    "* 3D models of both reactants and the predicted product\n",
    "* Energy values for each molecule\n",
    "* The calculated energy change (ΔE) in both Hartree and kcal/mol\n",
    "* A clear indication of whether the reaction is thermodynamically favorable\n",
    "\n",
    "✅"
   ]
  },
  {
   "cell_type": "markdown",
   "id": "9304ef5f",
   "metadata": {},
   "source": [
    "## Discussion 💭\n",
    "\n",
    "### Interface Usability \n",
    "\n",
    "The Streamlit-based user interface provided an accessible way for users to interact with complex computational chemistry tools. However, several areas for improvement were identified:\n",
    "1. The page \"jump\" to Molecule 2 disrupted the user experience. One way of solving it would have been to put the two interfaces for Molecule 1 and 2 next to each other, but then we would lose the sibebar for choosing specific atoms such as Br, O or S.\n",
    "3. Additional visualization options (like electrostatic potential maps) would enhance understanding\n",
    "\n",
    "### Accuracy of Template-Based Reaction Prediction\n",
    "The template-based approach provided a straightforward way to predict reaction outcomes for common reaction types. However, this method has inherent limitations:\n",
    "1. It can only predict reactions that match pre-defined templates\n",
    "2. It does not account for kinetic factors that might prevent thermodynamically favorable reactions\n",
    "3. Complex reactions involving multiple steps or rearrangements cannot be modeled\n",
    "4. __Not all implemented templates produce chemically valid products__ - while our halogen interchange templates work with high accuracy, other reaction types sometimes generate structures that would not form under real laboratory conditions\n",
    "\n",
    "The tests revealed that the halogen interchange reactions consistently generated pausible products with accurate enegry calculations. However, for more complex transformations per example amide formation, the system occasionally produced structures that violate established chemical principles.\n",
    "\n",
    "This suggests that rathen than using a single generic reaction prediction algorithhm, implementing dedicated functions for each reaction class would allow for better results. Therefore, would better reflect the unique characteristics of different chemicak transformations.\n",
    "\n",
    "\n",
    "\n",
    "### Energy Calculation Precision\n",
    "Our decision to use RDKit force fields rather than quantum mechanical methods introduced a trade-off between computational efficiency and accuracy. While sufficient for relative comparisons, the absolute energy values should be interpreted with caution:\n",
    "1. Force fields like MMFF94s are parameterized for common organic structures and may be less accurate for unusual chemical environments\n",
    "2. The calculations do not explicitly account for solvation effects\n",
    "3. Zero-point energy corrections are not included\n",
    "\n",
    "### Technical Challenges\n",
    "Several significant technical challenges were encountered during development:\n",
    "1. __Segmentation issues with xTB__: Despite multiple attempts and alternative methods, we could not resolve these issues, leading to our adoption of RDKit\n",
    "2. __Molecular representation conversions__: Maintaining consistency across different representations (SMILES, molblock, 3D coordinates) required careful implementation\n",
    "3. __Exception handling__: Chemical calculations frequently encounter edge cases requiring robust error handling\n",
    "\n",
    "### Conclusion 🚀\n",
    "We successfully developed a computational system that predicts chemical reaction products and assesses their thermodynamic stability at 0K. Our approach combines:\n",
    "1. An intuitive molecular drawing interface\n",
    "2. Template-based reaction prediction\n",
    "3. Force field-based energy calculations\n",
    "4. Clear visualization of results\n",
    "The system effectively demonstrates the concept of using free enthalpy calculations to predict reaction spontaneity, providing a valuable educational and exploratory tool for chemistry students and researchers.\n",
    "\n",
    "### Future Improvements 🔮\n",
    "Several enhancements could improve the system's capabilities:\n",
    "\n",
    "1. Implementation of quantum mechanical methods for more accurate energy calculations. It would also enable the identification of the kinetic product, the transition state, and the activation barrier.\n",
    "2. Expansion of the reaction template library to cover more reaction types\n",
    "3. Addition of temperature effects to predict reaction favorability under different conditions\n",
    "4. Addition of the leaving groups to observe the whole reaction\n",
    "5. Improvements to the user interface to address identified usability issues\n",
    "\n",
    "This project demonstrates the potential of computational approaches to provide rapid insights into chemical reactivity, potentially reducing the need for experimental trial-and-error in reaction development.\n"
   ]
  }
 ],
 "metadata": {
  "kernelspec": {
   "display_name": "ppchem",
   "language": "python",
   "name": "python3"
  },
  "language_info": {
   "codemirror_mode": {
    "name": "ipython",
    "version": 3
   },
   "file_extension": ".py",
   "mimetype": "text/x-python",
   "name": "python",
   "nbconvert_exporter": "python",
   "pygments_lexer": "ipython3",
   "version": "3.10.16"
  }
 },
 "nbformat": 4,
 "nbformat_minor": 5
}
