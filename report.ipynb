{
 "cells": [
  {
   "cell_type": "markdown",
   "id": "6e44ae47",
   "metadata": {},
   "source": [
    "# Introduction\n",
    "\n",
    "The aim of our project is to find out whether the product created from two designated molecules is stable. Indeed, our vision is to ask a user to draw two molecules of his choice. Via the \"reaction_utils\" template, a product is created. To find out whether it was stable and whether the reaction was spontaneous, we also chose to calculate free enthalpies.\n",
    "\n",
    "Free enthalpy, or Gibbs free energy, ΔG is a thermodynamic function that determines whether a chemical reaction can occur spontaneously at constant temperature and pressure. It is calculated by the formula ΔG=ΔH-TΔS where H is enthalpy [J], T is the temperature [K] and S is the entropy [J/K]. A reaction is spontaneous if the variation in free enthalpy is negative. In our case,  If the enthalpy of the sum of the reactants is greater than that of the product, then the latter is stable. This concept is therefore essential for predicting chemical equilibrium and optimizing the conditions of chemical reactions, whether industrial or biological. Free enthalpy thus enables us to better understand the direction and feasibility of chemical transformations.\n",
    "\n",
    "\n",
    "# Materials and Methods\n",
    "\n",
    "To reach our goal, which is to determine if the reaction of two given reactive is spontaneous or not at 0K, the problem was devided in multiple steps:\n",
    "First, a drawing interface was created to enable the users to draw their reactants.\n",
    "Then, the reactants were analyzed to determine what possible product they could yield using reaction templates. \n",
    "Finally, the energy of all molecules both reactants and product were calculated and compaired to conclude on the spontaneous character of the reaction at 0K.\n",
    "\n",
    "All this steps can be summaryze with this chart : \n",
    "\n",
    "Molecule ( Smiles “CCOC…”) → Convert into 3D (xyz) → Found the energy using XTB and Morfeus\n",
    "\n",
    "## 1. Creating a drawing interface\n",
    "\n",
    "i let you talk soso ;)\n",
    "\n",
    "First, a drawing interface inspired by the materials provided in lecture 12 was created using streamlit and ketcher. The interface was designed for the user to draw the two reagents,enableling them to see their drawing as well as the corresponding smiles, 3D visualization and energy of the molecules. The product was also illustrated with the same features.\n",
    "\n",
    "One of the main challenge of this part was to obtain the product into the screen interface. Indeed, for aesthetic reasons, we tried to get the product on the screen created with ketcher. However, when the product is created once, it is not possible to change the reagents again and see the new molecule. In fact, the page has to be reinitialized. \n",
    "Secondly, we've chosen to create a site that's easy to navigate for the reader. For example, the user must click on the “Draw molecule 2” button after drawing the first molecule. This button was created because if the two drawing interfaces were in place from the start, the page would “jump” directly to the Molecule 2 section. Unwrapping the site in several stages with buttons enabled us to solve this problem.\n",
    "\n",
    "## 2. Generating a Product \n",
    "\n",
    "a toi maria bebou\n",
    "\n",
    "## 3. Calculation of the molecule's energy \n",
    "\n",
    "Furthermore, the energy of each molecule was required. To obtain that information the initial idea was to convert the drawn molecule into a xyz file in order to optimize its geometry and calculate the energy of the molecule. The latter process presented many difficulties: \n",
    "\n",
    "# 3. Results and Discussion\n",
    "\n",
    "\n",
    "\n",
    "\n"
   ]
  },
  {
   "cell_type": "code",
   "execution_count": null,
   "id": "48b2f003",
   "metadata": {
    "vscode": {
     "languageId": "plaintext"
    }
   },
   "outputs": [],
   "source": []
  }
 ],
 "metadata": {
  "language_info": {
   "name": "python"
  }
 },
 "nbformat": 4,
 "nbformat_minor": 5
}
